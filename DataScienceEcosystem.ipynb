{
 "cells": [
  {
   "cell_type": "markdown",
   "id": "152bd5fa-513e-459f-8adf-3c79a349dc46",
   "metadata": {},
   "source": [
    "# Data Science Tools and Ecosystem"
   ]
  },
  {
   "cell_type": "markdown",
   "id": "05488ea2-afb2-4113-b1f4-0a8b9eb75c0d",
   "metadata": {},
   "source": [
    "In this notebook, Data Science Tools and Ecosystem are summarized."
   ]
  },
  {
   "cell_type": "markdown",
   "id": "fe5b1769-c162-4615-9c55-51f011ef120d",
   "metadata": {},
   "source": [
    "**Objectives:**\n",
    "- Some of popular Data Science Languages.\n",
    "- Some of commonly used Libraries used by Data Scientists.\n",
    "- Examples of arithmatic expressions in Python. "
   ]
  },
  {
   "cell_type": "markdown",
   "id": "82dfe2b7-c71c-4e90-b4cb-c0873853bd46",
   "metadata": {},
   "source": [
    "### Some of the popular languages that Data Scientists use are:\n",
    "1. Python\n",
    "2. R\n",
    "3. Java"
   ]
  },
  {
   "cell_type": "markdown",
   "id": "46f7281f-976e-4574-9687-52d021d16525",
   "metadata": {},
   "source": [
    "### Some of the commonly used libraries used by Data Scientists include:\n",
    "1. Pandas\n",
    "2. Numby\n",
    "3. Matplotlib\n"
   ]
  },
  {
   "cell_type": "markdown",
   "id": "715d59d4-ca36-4421-b0af-9ec2b91ab11e",
   "metadata": {},
   "source": [
    "| Data Science Tools |\n",
    "|------------------- |\n",
    "| Jupyter Notebook |\n",
    "| RStudio |\n",
    "| Hadoop |"
   ]
  },
  {
   "cell_type": "markdown",
   "id": "2cd933a5-595c-4df2-8519-eff2384c61ac",
   "metadata": {},
   "source": [
    "### Below are a few examples of evaluating arithmetic expressions in Python\n"
   ]
  },
  {
   "cell_type": "code",
   "execution_count": 2,
   "id": "6cc460b6-ab60-46df-b7d2-208b36d38e39",
   "metadata": {},
   "outputs": [
    {
     "data": {
      "text/plain": [
       "17"
      ]
     },
     "execution_count": 2,
     "metadata": {},
     "output_type": "execute_result"
    }
   ],
   "source": [
    "# This a simple arithmetic expression to mutiply then add integers\n",
    "\n",
    "(3*4)+5"
   ]
  },
  {
   "cell_type": "code",
   "execution_count": 3,
   "id": "d538293a-5145-41ca-b415-38729e7122cf",
   "metadata": {},
   "outputs": [
    {
     "data": {
      "text/plain": [
       "3.3333333333333335"
      ]
     },
     "execution_count": 3,
     "metadata": {},
     "output_type": "execute_result"
    }
   ],
   "source": [
    "# This will convert 200 minutes to hours by diving by 60\n",
    "\n",
    "200/60"
   ]
  },
  {
   "cell_type": "markdown",
   "id": "e816b3d4-afb6-42fa-a9ca-be39a068c1c9",
   "metadata": {},
   "source": [
    "## Author\n",
    "Ramy Adel"
   ]
  },
  {
   "cell_type": "code",
   "execution_count": null,
   "id": "ad465360-0d27-44a4-92a5-a1c0b931ed97",
   "metadata": {},
   "outputs": [],
   "source": []
  },
  {
   "cell_type": "code",
   "execution_count": null,
   "id": "f186e98a-337f-46a6-b424-755d80ce47b1",
   "metadata": {},
   "outputs": [],
   "source": []
  },
  {
   "cell_type": "code",
   "execution_count": null,
   "id": "9b07a9c8-bb7a-483f-82fe-111272186045",
   "metadata": {},
   "outputs": [],
   "source": []
  },
  {
   "cell_type": "code",
   "execution_count": null,
   "id": "b59389cd-5040-4934-aea9-56930cbfdebc",
   "metadata": {},
   "outputs": [],
   "source": []
  },
  {
   "cell_type": "code",
   "execution_count": null,
   "id": "6840620c-bb17-41df-83f5-b3c81c9806ad",
   "metadata": {},
   "outputs": [],
   "source": []
  }
 ],
 "metadata": {
  "kernelspec": {
   "display_name": "Python 3 (ipykernel)",
   "language": "python",
   "name": "python3"
  },
  "language_info": {
   "codemirror_mode": {
    "name": "ipython",
    "version": 3
   },
   "file_extension": ".py",
   "mimetype": "text/x-python",
   "name": "python",
   "nbconvert_exporter": "python",
   "pygments_lexer": "ipython3",
   "version": "3.11.7"
  }
 },
 "nbformat": 4,
 "nbformat_minor": 5
}
